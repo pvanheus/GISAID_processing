{
 "cells": [
  {
   "cell_type": "code",
   "execution_count": 1,
   "id": "18d313bd-5208-4cdc-9212-02c972a333e0",
   "metadata": {},
   "outputs": [],
   "source": [
    "import altair as alt\n",
    "import pandas as pd\n",
    "from altair_saver import save\n",
    "\n",
    "from gisaid_utils import *"
   ]
  },
  {
   "cell_type": "code",
   "execution_count": 2,
   "id": "563bb877-3aec-479a-97ae-d343046aa2fb",
   "metadata": {},
   "outputs": [],
   "source": [
    "gisaid_metadata_filename = 'metadata_2022-08-20_00-26.tsv.gz'\n",
    "extract_africa_metadata(gisaid_metadata_filename)\n",
    "africa_metadata = get_africa_metadata()"
   ]
  },
  {
   "cell_type": "code",
   "execution_count": 3,
   "id": "16c60736-ee25-4a7c-95a6-e80e2a6658a0",
   "metadata": {},
   "outputs": [],
   "source": [
    "countries_df = get_countries()"
   ]
  },
  {
   "cell_type": "code",
   "execution_count": 4,
   "id": "cf70e6a8-53fb-489e-a6fd-0f5e6b58d070",
   "metadata": {},
   "outputs": [],
   "source": [
    "income_groups = get_income_groups()"
   ]
  },
  {
   "cell_type": "code",
   "execution_count": 5,
   "id": "6032fa94-8f56-4cc1-b560-8623f5d55bd3",
   "metadata": {},
   "outputs": [],
   "source": [
    "def date_greater_filter(date, cutoff):\n",
    "    date_parts = date.split('-')\n",
    "    date_day = int(date_parts[2]) if len(date_parts) == 3 else 0\n",
    "    date_month = int(date_parts[1]) if len(date_parts) >= 2 else 0\n",
    "    date_year = int(date_parts[0])\n",
    "    return [date_year, date_month, date_day] >= cutoff\n",
    "\n",
    "def date_lesser_filter(date, cutoff):\n",
    "    return not date_greater_filter(date, cutoff)\n",
    "\n",
    "days_to_submit_df_2020 = africa_metadata[africa_metadata.apply(\n",
    "    lambda r:(date_lesser_filter(r['date_submitted'], [2021,1,1]) & date_greater_filter(r['date_submitted'], [2019,12,31])), axis=1)\n",
    "                                   ].groupby('country').mean().reset_index().sort_values(by='days_to_submit')\n",
    "days_to_submit_df_2020 = insert_income_groups(days_to_submit_df_2020, countries_df, income_groups, 'country')\n",
    "\n",
    "days_to_submit_df_2021 = africa_metadata[africa_metadata.apply(\n",
    "    lambda r:(date_lesser_filter(r['date_submitted'], [2022,1,1]) & date_greater_filter(r['date_submitted'], [2020,12,31])), axis=1)\n",
    "                                   ].groupby('country').mean().reset_index().sort_values(by='days_to_submit')\n",
    "days_to_submit_df_2021 = insert_income_groups(days_to_submit_df_2021, countries_df, income_groups, 'country')\n",
    "\n",
    "days_to_submit_df_2022 = africa_metadata[africa_metadata.apply(\n",
    "    lambda r:(date_lesser_filter(r['date_submitted'], [2023,1,1]) & date_greater_filter(r['date_submitted'], [2021,12,31])), axis=1)\n",
    "                                   ].groupby('country').mean().reset_index().sort_values(by='days_to_submit')\n",
    "days_to_submit_df_2022 = insert_income_groups(days_to_submit_df_2022, countries_df, income_groups, 'country')\n",
    "\n"
   ]
  },
  {
   "cell_type": "code",
   "execution_count": 17,
   "id": "d47afa67-d405-495d-9861-35531cf691c6",
   "metadata": {},
   "outputs": [],
   "source": [
    "def make_chart(df, year):\n",
    "    chart = alt.Chart(df).mark_bar().encode(x=alt.X(\"country\", title=\"Country\"),\n",
    "                                            y=alt.Y(\"days_to_submit\", title=f\"Days to submit sample to GISAID - {year}\"),\n",
    "                                            color=alt.Color('Income group', sort=['Low income', 'Lower middle income', 'Upper middle income', 'High income']))\n",
    "    save(chart, f\"images/days_to_submit_to_gisaid_{year}.png\")\n",
    "    save(chart, f\"images/days_to_submit_to_gisaid_{year}.svg\")\n",
    "    return chart"
   ]
  },
  {
   "cell_type": "code",
   "execution_count": 18,
   "id": "10aed9c9-e8a0-4525-9bde-f8ec465d5bb9",
   "metadata": {},
   "outputs": [
    {
     "data": {
      "text/html": [
       "\n",
       "<div id=\"altair-viz-3294eba9a8f946fbb6e36a9514765f9b\"></div>\n",
       "<script type=\"text/javascript\">\n",
       "  (function(spec, embedOpt){\n",
       "    let outputDiv = document.currentScript.previousElementSibling;\n",
       "    if (outputDiv.id !== \"altair-viz-3294eba9a8f946fbb6e36a9514765f9b\") {\n",
       "      outputDiv = document.getElementById(\"altair-viz-3294eba9a8f946fbb6e36a9514765f9b\");\n",
       "    }\n",
       "    const paths = {\n",
       "      \"vega\": \"https://cdn.jsdelivr.net/npm//vega@5?noext\",\n",
       "      \"vega-lib\": \"https://cdn.jsdelivr.net/npm//vega-lib?noext\",\n",
       "      \"vega-lite\": \"https://cdn.jsdelivr.net/npm//vega-lite@4.8.1?noext\",\n",
       "      \"vega-embed\": \"https://cdn.jsdelivr.net/npm//vega-embed@6?noext\",\n",
       "    };\n",
       "\n",
       "    function loadScript(lib) {\n",
       "      return new Promise(function(resolve, reject) {\n",
       "        var s = document.createElement('script');\n",
       "        s.src = paths[lib];\n",
       "        s.async = true;\n",
       "        s.onload = () => resolve(paths[lib]);\n",
       "        s.onerror = () => reject(`Error loading script: ${paths[lib]}`);\n",
       "        document.getElementsByTagName(\"head\")[0].appendChild(s);\n",
       "      });\n",
       "    }\n",
       "\n",
       "    function showError(err) {\n",
       "      outputDiv.innerHTML = `<div class=\"error\" style=\"color:red;\">${err}</div>`;\n",
       "      throw err;\n",
       "    }\n",
       "\n",
       "    function displayChart(vegaEmbed) {\n",
       "      vegaEmbed(outputDiv, spec, embedOpt)\n",
       "        .catch(err => showError(`Javascript Error: ${err.message}<br>This usually means there's a typo in your chart specification. See the javascript console for the full traceback.`));\n",
       "    }\n",
       "\n",
       "    if(typeof define === \"function\" && define.amd) {\n",
       "      requirejs.config({paths});\n",
       "      require([\"vega-embed\"], displayChart, err => showError(`Error loading script: ${err.message}`));\n",
       "    } else if (typeof vegaEmbed === \"function\") {\n",
       "      displayChart(vegaEmbed);\n",
       "    } else {\n",
       "      loadScript(\"vega\")\n",
       "        .then(() => loadScript(\"vega-lite\"))\n",
       "        .then(() => loadScript(\"vega-embed\"))\n",
       "        .catch(showError)\n",
       "        .then(() => displayChart(vegaEmbed));\n",
       "    }\n",
       "  })({\"config\": {\"view\": {\"continuousWidth\": 400, \"continuousHeight\": 300}}, \"data\": {\"name\": \"data-595c44b4adde36827347aa7dc89974eb\"}, \"mark\": \"bar\", \"encoding\": {\"color\": {\"type\": \"nominal\", \"field\": \"Income group\", \"sort\": [\"Low income\", \"Lower middle income\", \"Upper middle income\", \"High income\"]}, \"x\": {\"type\": \"nominal\", \"field\": \"country\", \"title\": \"Country\"}, \"y\": {\"type\": \"quantitative\", \"field\": \"days_to_submit\", \"title\": \"Days to submit sample to GISAID - 2020\"}}, \"$schema\": \"https://vega.github.io/schema/vega-lite/v4.8.1.json\", \"datasets\": {\"data-595c44b4adde36827347aa7dc89974eb\": [{\"country\": \"Algeria\", \"length\": 29799.333333333332, \"purpose_of_sequencing\": null, \"days_to_submit\": 27.0, \"iso3\": \"DZA\", \"Region\": \"Middle East & North Africa\", \"Income group\": \"Lower middle income\"}, {\"country\": \"Egypt\", \"length\": 29821.87261146497, \"purpose_of_sequencing\": null, \"days_to_submit\": 30.515923566878982, \"iso3\": \"EGY\", \"Region\": \"Middle East & North Africa\", \"Income group\": \"Lower middle income\"}, {\"country\": \"Senegal\", \"length\": 29734.205673758865, \"purpose_of_sequencing\": null, \"days_to_submit\": 42.1063829787234, \"iso3\": \"SEN\", \"Region\": \"Sub-Saharan Africa\", \"Income group\": \"Lower middle income\"}, {\"country\": \"South Africa\", \"length\": 29843.54643478261, \"purpose_of_sequencing\": null, \"days_to_submit\": 48.829565217391306, \"iso3\": \"ZAF\", \"Region\": \"Sub-Saharan Africa\", \"Income group\": \"Upper middle income\"}, {\"country\": \"Democratic Republic of the Congo\", \"length\": 29680.32782369146, \"purpose_of_sequencing\": null, \"days_to_submit\": 68.0358126721763, \"iso3\": \"COD\", \"Region\": \"Sub-Saharan Africa\", \"Income group\": \"Low income\"}, {\"country\": \"Morocco\", \"length\": 29815.32183908046, \"purpose_of_sequencing\": null, \"days_to_submit\": 71.50574712643679, \"iso3\": \"MAR\", \"Region\": \"Middle East & North Africa\", \"Income group\": \"Lower middle income\"}, {\"country\": \"Gambia\", \"length\": 29748.868852459018, \"purpose_of_sequencing\": null, \"days_to_submit\": 73.65573770491804, \"iso3\": \"GMB\", \"Region\": \"Sub-Saharan Africa\", \"Income group\": \"Low income\"}, {\"country\": \"Tunisia\", \"length\": 29855.530612244896, \"purpose_of_sequencing\": null, \"days_to_submit\": 76.6938775510204, \"iso3\": \"TUN\", \"Region\": \"Middle East & North Africa\", \"Income group\": \"Lower middle income\"}, {\"country\": \"Burkina Faso\", \"length\": 29781.2, \"purpose_of_sequencing\": null, \"days_to_submit\": 84.75294117647059, \"iso3\": \"BFA\", \"Region\": \"Sub-Saharan Africa\", \"Income group\": \"Low income\"}, {\"country\": \"Ghana\", \"length\": 29684.842857142856, \"purpose_of_sequencing\": null, \"days_to_submit\": 90.18571428571428, \"iso3\": \"GHA\", \"Region\": \"Sub-Saharan Africa\", \"Income group\": \"Lower middle income\"}, {\"country\": \"Benin\", \"length\": 29768.75, \"purpose_of_sequencing\": null, \"days_to_submit\": 91.5, \"iso3\": \"BEN\", \"Region\": \"Sub-Saharan Africa\", \"Income group\": \"Lower middle income\"}, {\"country\": \"Mali\", \"length\": 29804.545454545456, \"purpose_of_sequencing\": null, \"days_to_submit\": 98.54545454545455, \"iso3\": \"MLI\", \"Region\": \"Sub-Saharan Africa\", \"Income group\": \"Low income\"}, {\"country\": \"Libya\", \"length\": 29875.4, \"purpose_of_sequencing\": null, \"days_to_submit\": 108.0, \"iso3\": \"LBY\", \"Region\": \"Middle East & North Africa\", \"Income group\": \"Upper middle income\"}, {\"country\": \"Kenya\", \"length\": 29591.67931034483, \"purpose_of_sequencing\": null, \"days_to_submit\": 108.92068965517241, \"iso3\": \"KEN\", \"Region\": \"Sub-Saharan Africa\", \"Income group\": \"Lower middle income\"}, {\"country\": \"Sierra Leone\", \"length\": 29884.18181818182, \"purpose_of_sequencing\": null, \"days_to_submit\": 123.18181818181819, \"iso3\": \"SLE\", \"Region\": \"Sub-Saharan Africa\", \"Income group\": \"Low income\"}, {\"country\": \"C\\u00f4te d'Ivoire\", \"length\": 29773.476923076923, \"purpose_of_sequencing\": null, \"days_to_submit\": 126.38461538461539, \"iso3\": \"CIV\", \"Region\": \"Sub-Saharan Africa\", \"Income group\": \"Lower middle income\"}, {\"country\": \"Zambia\", \"length\": 29781.0, \"purpose_of_sequencing\": null, \"days_to_submit\": 128.0, \"iso3\": \"ZMB\", \"Region\": \"Sub-Saharan Africa\", \"Income group\": \"Low income\"}, {\"country\": \"Mozambique\", \"length\": 29791.85714285714, \"purpose_of_sequencing\": null, \"days_to_submit\": 128.14285714285714, \"iso3\": \"MOZ\", \"Region\": \"Sub-Saharan Africa\", \"Income group\": \"Low income\"}, {\"country\": \"Rwanda\", \"length\": 29566.264705882353, \"purpose_of_sequencing\": null, \"days_to_submit\": 129.44117647058823, \"iso3\": \"RWA\", \"Region\": \"Sub-Saharan Africa\", \"Income group\": \"Low income\"}, {\"country\": \"Republic of the Congo\", \"length\": 29836.0, \"purpose_of_sequencing\": null, \"days_to_submit\": 137.36363636363637, \"iso3\": \"COG\", \"Region\": \"Sub-Saharan Africa\", \"Income group\": \"Lower middle income\"}, {\"country\": \"Uganda\", \"length\": 29756.60769230769, \"purpose_of_sequencing\": null, \"days_to_submit\": 145.06153846153848, \"iso3\": \"UGA\", \"Region\": \"Sub-Saharan Africa\", \"Income group\": \"Low income\"}, {\"country\": \"Nigeria\", \"length\": 29827.236363636363, \"purpose_of_sequencing\": null, \"days_to_submit\": 151.6409090909091, \"iso3\": \"NGA\", \"Region\": \"Sub-Saharan Africa\", \"Income group\": \"Lower middle income\"}, {\"country\": \"Cameroon\", \"length\": 29686.0, \"purpose_of_sequencing\": null, \"days_to_submit\": 159.0, \"iso3\": \"CMR\", \"Region\": \"Sub-Saharan Africa\", \"Income group\": \"Lower middle income\"}, {\"country\": \"Madagascar\", \"length\": 29856.0, \"purpose_of_sequencing\": null, \"days_to_submit\": 164.5, \"iso3\": \"MDG\", \"Region\": \"Sub-Saharan Africa\", \"Income group\": \"Low income\"}, {\"country\": \"Equatorial Guinea\", \"length\": 29807.294736842105, \"purpose_of_sequencing\": null, \"days_to_submit\": 167.7157894736842, \"iso3\": \"GNQ\", \"Region\": \"Sub-Saharan Africa\", \"Income group\": \"Upper middle income\"}, {\"country\": \"Botswana\", \"length\": 29782.0, \"purpose_of_sequencing\": null, \"days_to_submit\": 174.16666666666666, \"iso3\": \"BWA\", \"Region\": \"Sub-Saharan Africa\", \"Income group\": \"Upper middle income\"}, {\"country\": \"Gabon\", \"length\": 29865.25, \"purpose_of_sequencing\": null, \"days_to_submit\": 177.25, \"iso3\": \"GAB\", \"Region\": \"Sub-Saharan Africa\", \"Income group\": \"Upper middle income\"}, {\"country\": \"Zimbabwe\", \"length\": 29812.18556701031, \"purpose_of_sequencing\": null, \"days_to_submit\": 198.10309278350516, \"iso3\": \"ZWE\", \"Region\": \"Sub-Saharan Africa\", \"Income group\": \"Lower middle income\"}]}}, {\"mode\": \"vega-lite\"});\n",
       "</script>"
      ],
      "text/plain": [
       "alt.Chart(...)"
      ]
     },
     "execution_count": 18,
     "metadata": {},
     "output_type": "execute_result"
    }
   ],
   "source": [
    "make_chart(days_to_submit_df_2020, 2020)"
   ]
  },
  {
   "cell_type": "code",
   "execution_count": 19,
   "id": "4ae83ac4-2de1-437f-8c46-d2004a436bea",
   "metadata": {},
   "outputs": [
    {
     "data": {
      "text/html": [
       "\n",
       "<div id=\"altair-viz-9f8e8240240941669049be85c0051a4c\"></div>\n",
       "<script type=\"text/javascript\">\n",
       "  (function(spec, embedOpt){\n",
       "    let outputDiv = document.currentScript.previousElementSibling;\n",
       "    if (outputDiv.id !== \"altair-viz-9f8e8240240941669049be85c0051a4c\") {\n",
       "      outputDiv = document.getElementById(\"altair-viz-9f8e8240240941669049be85c0051a4c\");\n",
       "    }\n",
       "    const paths = {\n",
       "      \"vega\": \"https://cdn.jsdelivr.net/npm//vega@5?noext\",\n",
       "      \"vega-lib\": \"https://cdn.jsdelivr.net/npm//vega-lib?noext\",\n",
       "      \"vega-lite\": \"https://cdn.jsdelivr.net/npm//vega-lite@4.8.1?noext\",\n",
       "      \"vega-embed\": \"https://cdn.jsdelivr.net/npm//vega-embed@6?noext\",\n",
       "    };\n",
       "\n",
       "    function loadScript(lib) {\n",
       "      return new Promise(function(resolve, reject) {\n",
       "        var s = document.createElement('script');\n",
       "        s.src = paths[lib];\n",
       "        s.async = true;\n",
       "        s.onload = () => resolve(paths[lib]);\n",
       "        s.onerror = () => reject(`Error loading script: ${paths[lib]}`);\n",
       "        document.getElementsByTagName(\"head\")[0].appendChild(s);\n",
       "      });\n",
       "    }\n",
       "\n",
       "    function showError(err) {\n",
       "      outputDiv.innerHTML = `<div class=\"error\" style=\"color:red;\">${err}</div>`;\n",
       "      throw err;\n",
       "    }\n",
       "\n",
       "    function displayChart(vegaEmbed) {\n",
       "      vegaEmbed(outputDiv, spec, embedOpt)\n",
       "        .catch(err => showError(`Javascript Error: ${err.message}<br>This usually means there's a typo in your chart specification. See the javascript console for the full traceback.`));\n",
       "    }\n",
       "\n",
       "    if(typeof define === \"function\" && define.amd) {\n",
       "      requirejs.config({paths});\n",
       "      require([\"vega-embed\"], displayChart, err => showError(`Error loading script: ${err.message}`));\n",
       "    } else if (typeof vegaEmbed === \"function\") {\n",
       "      displayChart(vegaEmbed);\n",
       "    } else {\n",
       "      loadScript(\"vega\")\n",
       "        .then(() => loadScript(\"vega-lite\"))\n",
       "        .then(() => loadScript(\"vega-embed\"))\n",
       "        .catch(showError)\n",
       "        .then(() => displayChart(vegaEmbed));\n",
       "    }\n",
       "  })({\"config\": {\"view\": {\"continuousWidth\": 400, \"continuousHeight\": 300}}, \"data\": {\"name\": \"data-588568faee433254f456a909d9857edb\"}, \"mark\": \"bar\", \"encoding\": {\"color\": {\"type\": \"nominal\", \"field\": \"Income group\", \"sort\": [\"Low income\", \"Lower middle income\", \"Upper middle income\", \"High income\"]}, \"x\": {\"type\": \"nominal\", \"field\": \"country\", \"title\": \"Country\"}, \"y\": {\"type\": \"quantitative\", \"field\": \"days_to_submit\", \"title\": \"Days to submit sample to GISAID - 2021\"}}, \"$schema\": \"https://vega.github.io/schema/vega-lite/v4.8.1.json\", \"datasets\": {\"data-588568faee433254f456a909d9857edb\": [{\"country\": \"Botswana\", \"length\": 29748.024545454544, \"purpose_of_sequencing\": null, \"days_to_submit\": 28.33409090909091, \"iso3\": \"BWA\", \"Region\": \"Sub-Saharan Africa\", \"Income group\": \"Upper middle income\"}, {\"country\": \"Union of the Comoros\", \"length\": 29764.529411764706, \"purpose_of_sequencing\": null, \"days_to_submit\": 48.588235294117645, \"iso3\": \"COM\", \"Region\": \"Sub-Saharan Africa\", \"Income group\": \"Lower middle income\"}, {\"country\": \"Mauritius\", \"length\": 29738.156779661018, \"purpose_of_sequencing\": null, \"days_to_submit\": 56.21398305084746, \"iso3\": \"MUS\", \"Region\": \"Sub-Saharan Africa\", \"Income group\": \"Upper middle income\"}, {\"country\": \"Republic of the Congo\", \"length\": 29686.87885010267, \"purpose_of_sequencing\": null, \"days_to_submit\": 60.48254620123203, \"iso3\": \"COG\", \"Region\": \"Sub-Saharan Africa\", \"Income group\": \"Lower middle income\"}, {\"country\": \"Burundi\", \"length\": 29702.365079365078, \"purpose_of_sequencing\": null, \"days_to_submit\": 67.28571428571429, \"iso3\": \"BDI\", \"Region\": \"Sub-Saharan Africa\", \"Income group\": \"Low income\"}, {\"country\": \"South Africa\", \"length\": 29728.463698834777, \"purpose_of_sequencing\": null, \"days_to_submit\": 74.30440906568782, \"iso3\": \"ZAF\", \"Region\": \"Sub-Saharan Africa\", \"Income group\": \"Upper middle income\"}, {\"country\": \"Rwanda\", \"length\": 29653.39344262295, \"purpose_of_sequencing\": null, \"days_to_submit\": 74.3144560357675, \"iso3\": \"RWA\", \"Region\": \"Sub-Saharan Africa\", \"Income group\": \"Low income\"}, {\"country\": \"Seychelles\", \"length\": 29746.907918968693, \"purpose_of_sequencing\": null, \"days_to_submit\": 75.88581952117863, \"iso3\": \"SYC\", \"Region\": \"Sub-Saharan Africa\", \"Income group\": \"High income\"}, {\"country\": \"Nigeria\", \"length\": 29764.120755750275, \"purpose_of_sequencing\": null, \"days_to_submit\": 75.93510405257393, \"iso3\": \"NGA\", \"Region\": \"Sub-Saharan Africa\", \"Income group\": \"Lower middle income\"}, {\"country\": \"Cameroon\", \"length\": 29792.708480565372, \"purpose_of_sequencing\": null, \"days_to_submit\": 79.0547703180212, \"iso3\": \"CMR\", \"Region\": \"Sub-Saharan Africa\", \"Income group\": \"Lower middle income\"}, {\"country\": \"Eswatini\", \"length\": 29639.75, \"purpose_of_sequencing\": null, \"days_to_submit\": 79.05645161290323, \"iso3\": \"SWZ\", \"Region\": \"Sub-Saharan Africa\", \"Income group\": \"Lower middle income\"}, {\"country\": \"Libya\", \"length\": 29483.46153846154, \"purpose_of_sequencing\": null, \"days_to_submit\": 79.61538461538461, \"iso3\": \"LBY\", \"Region\": \"Middle East & North Africa\", \"Income group\": \"Upper middle income\"}, {\"country\": \"Lesotho\", \"length\": 29663.652173913044, \"purpose_of_sequencing\": null, \"days_to_submit\": 80.6086956521739, \"iso3\": \"LSO\", \"Region\": \"Sub-Saharan Africa\", \"Income group\": \"Lower middle income\"}, {\"country\": \"Cabo Verde\", \"length\": 29769.787234042553, \"purpose_of_sequencing\": null, \"days_to_submit\": 87.85106382978724, \"iso3\": \"CPV\", \"Region\": \"Sub-Saharan Africa\", \"Income group\": \"Lower middle income\"}, {\"country\": \"South Sudan\", \"length\": 29676.97701149425, \"purpose_of_sequencing\": null, \"days_to_submit\": 90.71264367816092, \"iso3\": \"SSD\", \"Region\": \"Sub-Saharan Africa\", \"Income group\": \"Low income\"}, {\"country\": \"Central African Republic\", \"length\": 29768.015873015873, \"purpose_of_sequencing\": null, \"days_to_submit\": 93.6984126984127, \"iso3\": \"CAF\", \"Region\": \"Sub-Saharan Africa\", \"Income group\": \"Low income\"}, {\"country\": \"Ghana\", \"length\": 29706.100953206238, \"purpose_of_sequencing\": null, \"days_to_submit\": 93.82279029462738, \"iso3\": \"GHA\", \"Region\": \"Sub-Saharan Africa\", \"Income group\": \"Lower middle income\"}, {\"country\": \"Gabon\", \"length\": 29685.511235955055, \"purpose_of_sequencing\": null, \"days_to_submit\": 94.37640449438203, \"iso3\": \"GAB\", \"Region\": \"Sub-Saharan Africa\", \"Income group\": \"Upper middle income\"}, {\"country\": \"Angola\", \"length\": 29823.444549763033, \"purpose_of_sequencing\": null, \"days_to_submit\": 96.9090047393365, \"iso3\": \"AGO\", \"Region\": \"Sub-Saharan Africa\", \"Income group\": \"Lower middle income\"}, {\"country\": \"Uganda\", \"length\": 29736.8386627907, \"purpose_of_sequencing\": null, \"days_to_submit\": 97.0203488372093, \"iso3\": \"UGA\", \"Region\": \"Sub-Saharan Africa\", \"Income group\": \"Low income\"}, {\"country\": \"Liberia\", \"length\": 29872.597402597403, \"purpose_of_sequencing\": null, \"days_to_submit\": 97.1948051948052, \"iso3\": \"LBR\", \"Region\": \"Sub-Saharan Africa\", \"Income group\": \"Low income\"}, {\"country\": \"Zimbabwe\", \"length\": 29780.307189542484, \"purpose_of_sequencing\": null, \"days_to_submit\": 97.60130718954248, \"iso3\": \"ZWE\", \"Region\": \"Sub-Saharan Africa\", \"Income group\": \"Lower middle income\"}, {\"country\": \"Ethiopia\", \"length\": 29789.63479923518, \"purpose_of_sequencing\": null, \"days_to_submit\": 99.21797323135755, \"iso3\": \"ETH\", \"Region\": \"Sub-Saharan Africa\", \"Income group\": \"Low income\"}, {\"country\": \"Algeria\", \"length\": 29770.579710144928, \"purpose_of_sequencing\": null, \"days_to_submit\": 101.95652173913044, \"iso3\": \"DZA\", \"Region\": \"Middle East & North Africa\", \"Income group\": \"Lower middle income\"}, {\"country\": \"Gambia\", \"length\": 29658.011093502377, \"purpose_of_sequencing\": null, \"days_to_submit\": 104.88906497622821, \"iso3\": \"GMB\", \"Region\": \"Sub-Saharan Africa\", \"Income group\": \"Low income\"}, {\"country\": \"Morocco\", \"length\": 29689.473002159826, \"purpose_of_sequencing\": null, \"days_to_submit\": 105.42548596112312, \"iso3\": \"MAR\", \"Region\": \"Middle East & North Africa\", \"Income group\": \"Lower middle income\"}, {\"country\": \"Malawi\", \"length\": 29746.823815309843, \"purpose_of_sequencing\": null, \"days_to_submit\": 109.25759416767922, \"iso3\": \"MWI\", \"Region\": \"Sub-Saharan Africa\", \"Income group\": \"Low income\"}, {\"country\": \"Mozambique\", \"length\": 29821.715217391305, \"purpose_of_sequencing\": null, \"days_to_submit\": 109.35, \"iso3\": \"MOZ\", \"Region\": \"Sub-Saharan Africa\", \"Income group\": \"Low income\"}, {\"country\": \"Togo\", \"length\": 29717.374647887325, \"purpose_of_sequencing\": null, \"days_to_submit\": 110.86197183098592, \"iso3\": \"TGO\", \"Region\": \"Sub-Saharan Africa\", \"Income group\": \"Low income\"}, {\"country\": \"Senegal\", \"length\": 29516.066864784545, \"purpose_of_sequencing\": null, \"days_to_submit\": 111.23774145616642, \"iso3\": \"SEN\", \"Region\": \"Sub-Saharan Africa\", \"Income group\": \"Lower middle income\"}, {\"country\": \"C\\u00f4te d'Ivoire\", \"length\": 29741.881516587677, \"purpose_of_sequencing\": null, \"days_to_submit\": 120.59241706161137, \"iso3\": \"CIV\", \"Region\": \"Sub-Saharan Africa\", \"Income group\": \"Lower middle income\"}, {\"country\": \"Tunisia\", \"length\": 29777.345238095237, \"purpose_of_sequencing\": null, \"days_to_submit\": 123.51190476190476, \"iso3\": \"TUN\", \"Region\": \"Middle East & North Africa\", \"Income group\": \"Lower middle income\"}, {\"country\": \"Namibia\", \"length\": 29770.940639269407, \"purpose_of_sequencing\": null, \"days_to_submit\": 134.8904109589041, \"iso3\": \"NAM\", \"Region\": \"Sub-Saharan Africa\", \"Income group\": \"Upper middle income\"}, {\"country\": \"Equatorial Guinea\", \"length\": 29690.51785714286, \"purpose_of_sequencing\": null, \"days_to_submit\": 135.0, \"iso3\": \"GNQ\", \"Region\": \"Sub-Saharan Africa\", \"Income group\": \"Upper middle income\"}, {\"country\": \"Sierra Leone\", \"length\": 29641.58, \"purpose_of_sequencing\": null, \"days_to_submit\": 142.3, \"iso3\": \"SLE\", \"Region\": \"Sub-Saharan Africa\", \"Income group\": \"Low income\"}, {\"country\": \"Mali\", \"length\": 29772.98, \"purpose_of_sequencing\": null, \"days_to_submit\": 146.4, \"iso3\": \"MLI\", \"Region\": \"Sub-Saharan Africa\", \"Income group\": \"Low income\"}, {\"country\": \"Djibouti\", \"length\": 29751.00817438692, \"purpose_of_sequencing\": null, \"days_to_submit\": 154.133514986376, \"iso3\": \"DJI\", \"Region\": \"Middle East & North Africa\", \"Income group\": \"Lower middle income\"}, {\"country\": \"Kenya\", \"length\": 29751.75480769231, \"purpose_of_sequencing\": null, \"days_to_submit\": 154.9071153846154, \"iso3\": \"KEN\", \"Region\": \"Sub-Saharan Africa\", \"Income group\": \"Lower middle income\"}, {\"country\": \"Guinea-Bissau\", \"length\": 29768.958333333332, \"purpose_of_sequencing\": null, \"days_to_submit\": 160.64583333333334, \"iso3\": \"GNB\", \"Region\": \"Sub-Saharan Africa\", \"Income group\": \"Low income\"}, {\"country\": \"Zambia\", \"length\": 29561.73286467487, \"purpose_of_sequencing\": null, \"days_to_submit\": 186.92179261862918, \"iso3\": \"ZMB\", \"Region\": \"Sub-Saharan Africa\", \"Income group\": \"Low income\"}, {\"country\": \"Benin\", \"length\": 29604.984, \"purpose_of_sequencing\": null, \"days_to_submit\": 188.49333333333334, \"iso3\": \"BEN\", \"Region\": \"Sub-Saharan Africa\", \"Income group\": \"Lower middle income\"}, {\"country\": \"Egypt\", \"length\": 29803.06810897436, \"purpose_of_sequencing\": null, \"days_to_submit\": 190.71634615384616, \"iso3\": \"EGY\", \"Region\": \"Middle East & North Africa\", \"Income group\": \"Lower middle income\"}, {\"country\": \"Guinea\", \"length\": 29747.413427561838, \"purpose_of_sequencing\": null, \"days_to_submit\": 205.24381625441697, \"iso3\": \"GIN\", \"Region\": \"Sub-Saharan Africa\", \"Income group\": \"Low income\"}, {\"country\": \"Niger\", \"length\": 29754.613526570047, \"purpose_of_sequencing\": null, \"days_to_submit\": 227.08212560386474, \"iso3\": \"NER\", \"Region\": \"Sub-Saharan Africa\", \"Income group\": \"Low income\"}, {\"country\": \"Burkina Faso\", \"length\": 29644.005976095617, \"purpose_of_sequencing\": null, \"days_to_submit\": 241.37649402390437, \"iso3\": \"BFA\", \"Region\": \"Sub-Saharan Africa\", \"Income group\": \"Low income\"}, {\"country\": \"Sudan\", \"length\": 29623.162162162163, \"purpose_of_sequencing\": null, \"days_to_submit\": 255.0810810810811, \"iso3\": \"SDN\", \"Region\": \"Sub-Saharan Africa\", \"Income group\": \"Low income\"}, {\"country\": \"Madagascar\", \"length\": 29800.017879948915, \"purpose_of_sequencing\": null, \"days_to_submit\": 255.6832694763729, \"iso3\": \"MDG\", \"Region\": \"Sub-Saharan Africa\", \"Income group\": \"Low income\"}, {\"country\": \"Somalia\", \"length\": 29735.77142857143, \"purpose_of_sequencing\": null, \"days_to_submit\": 271.45714285714286, \"iso3\": \"SOM\", \"Region\": \"Sub-Saharan Africa\", \"Income group\": \"Low income\"}, {\"country\": \"Democratic Republic of the Congo\", \"length\": 29635.455172413793, \"purpose_of_sequencing\": null, \"days_to_submit\": 272.3241379310345, \"iso3\": \"COD\", \"Region\": \"Sub-Saharan Africa\", \"Income group\": \"Low income\"}]}}, {\"mode\": \"vega-lite\"});\n",
       "</script>"
      ],
      "text/plain": [
       "alt.Chart(...)"
      ]
     },
     "execution_count": 19,
     "metadata": {},
     "output_type": "execute_result"
    }
   ],
   "source": [
    "make_chart(days_to_submit_df_2021, 2021)"
   ]
  },
  {
   "cell_type": "code",
   "execution_count": 21,
   "id": "a7385254-defd-4aba-bda4-5a587b20b3f9",
   "metadata": {},
   "outputs": [
    {
     "data": {
      "text/html": [
       "\n",
       "<div id=\"altair-viz-7a0958870c114b45a8a644992b439ad1\"></div>\n",
       "<script type=\"text/javascript\">\n",
       "  (function(spec, embedOpt){\n",
       "    let outputDiv = document.currentScript.previousElementSibling;\n",
       "    if (outputDiv.id !== \"altair-viz-7a0958870c114b45a8a644992b439ad1\") {\n",
       "      outputDiv = document.getElementById(\"altair-viz-7a0958870c114b45a8a644992b439ad1\");\n",
       "    }\n",
       "    const paths = {\n",
       "      \"vega\": \"https://cdn.jsdelivr.net/npm//vega@5?noext\",\n",
       "      \"vega-lib\": \"https://cdn.jsdelivr.net/npm//vega-lib?noext\",\n",
       "      \"vega-lite\": \"https://cdn.jsdelivr.net/npm//vega-lite@4.8.1?noext\",\n",
       "      \"vega-embed\": \"https://cdn.jsdelivr.net/npm//vega-embed@6?noext\",\n",
       "    };\n",
       "\n",
       "    function loadScript(lib) {\n",
       "      return new Promise(function(resolve, reject) {\n",
       "        var s = document.createElement('script');\n",
       "        s.src = paths[lib];\n",
       "        s.async = true;\n",
       "        s.onload = () => resolve(paths[lib]);\n",
       "        s.onerror = () => reject(`Error loading script: ${paths[lib]}`);\n",
       "        document.getElementsByTagName(\"head\")[0].appendChild(s);\n",
       "      });\n",
       "    }\n",
       "\n",
       "    function showError(err) {\n",
       "      outputDiv.innerHTML = `<div class=\"error\" style=\"color:red;\">${err}</div>`;\n",
       "      throw err;\n",
       "    }\n",
       "\n",
       "    function displayChart(vegaEmbed) {\n",
       "      vegaEmbed(outputDiv, spec, embedOpt)\n",
       "        .catch(err => showError(`Javascript Error: ${err.message}<br>This usually means there's a typo in your chart specification. See the javascript console for the full traceback.`));\n",
       "    }\n",
       "\n",
       "    if(typeof define === \"function\" && define.amd) {\n",
       "      requirejs.config({paths});\n",
       "      require([\"vega-embed\"], displayChart, err => showError(`Error loading script: ${err.message}`));\n",
       "    } else if (typeof vegaEmbed === \"function\") {\n",
       "      displayChart(vegaEmbed);\n",
       "    } else {\n",
       "      loadScript(\"vega\")\n",
       "        .then(() => loadScript(\"vega-lite\"))\n",
       "        .then(() => loadScript(\"vega-embed\"))\n",
       "        .catch(showError)\n",
       "        .then(() => displayChart(vegaEmbed));\n",
       "    }\n",
       "  })({\"config\": {\"view\": {\"continuousWidth\": 400, \"continuousHeight\": 300}}, \"data\": {\"name\": \"data-c8ec781a62a672543a8ac5c79db3e0d7\"}, \"mark\": \"bar\", \"encoding\": {\"color\": {\"type\": \"nominal\", \"field\": \"Income group\", \"sort\": [\"Low income\", \"Lower middle income\", \"Upper middle income\", \"High income\"]}, \"x\": {\"type\": \"nominal\", \"field\": \"country\", \"title\": \"Country\"}, \"y\": {\"type\": \"quantitative\", \"field\": \"days_to_submit\", \"title\": \"Days to submit sample to GISAID - 2022\"}}, \"$schema\": \"https://vega.github.io/schema/vega-lite/v4.8.1.json\", \"datasets\": {\"data-c8ec781a62a672543a8ac5c79db3e0d7\": [{\"country\": \"Botswana\", \"length\": 29350.13751668892, \"purpose_of_sequencing\": null, \"days_to_submit\": 38.59412550066756, \"iso3\": \"BWA\", \"Region\": \"Sub-Saharan Africa\", \"Income group\": \"Upper middle income\"}, {\"country\": \"Zimbabwe\", \"length\": 29725.206278026904, \"purpose_of_sequencing\": null, \"days_to_submit\": 41.596412556053814, \"iso3\": \"ZWE\", \"Region\": \"Sub-Saharan Africa\", \"Income group\": \"Lower middle income\"}, {\"country\": \"Mali\", \"length\": 29809.5, \"purpose_of_sequencing\": null, \"days_to_submit\": 56.0, \"iso3\": \"MLI\", \"Region\": \"Sub-Saharan Africa\", \"Income group\": \"Low income\"}, {\"country\": \"Central African Republic\", \"length\": 29693.85106382979, \"purpose_of_sequencing\": null, \"days_to_submit\": 64.46808510638297, \"iso3\": \"CAF\", \"Region\": \"Sub-Saharan Africa\", \"Income group\": \"Low income\"}, {\"country\": \"Djibouti\", \"length\": 29739.507163323782, \"purpose_of_sequencing\": null, \"days_to_submit\": 66.3381088825215, \"iso3\": \"DJI\", \"Region\": \"Middle East & North Africa\", \"Income group\": \"Lower middle income\"}, {\"country\": \"South Africa\", \"length\": 29672.425749502127, \"purpose_of_sequencing\": null, \"days_to_submit\": 68.1409117821196, \"iso3\": \"ZAF\", \"Region\": \"Sub-Saharan Africa\", \"Income group\": \"Upper middle income\"}, {\"country\": \"Morocco\", \"length\": 29737.968680089485, \"purpose_of_sequencing\": null, \"days_to_submit\": 68.52572706935123, \"iso3\": \"MAR\", \"Region\": \"Middle East & North Africa\", \"Income group\": \"Lower middle income\"}, {\"country\": \"Republic of the Congo\", \"length\": 29649.724137931036, \"purpose_of_sequencing\": null, \"days_to_submit\": 70.60344827586206, \"iso3\": \"COG\", \"Region\": \"Sub-Saharan Africa\", \"Income group\": \"Lower middle income\"}, {\"country\": \"Gambia\", \"length\": 29580.110526315788, \"purpose_of_sequencing\": null, \"days_to_submit\": 74.36578947368422, \"iso3\": \"GMB\", \"Region\": \"Sub-Saharan Africa\", \"Income group\": \"Low income\"}, {\"country\": \"Ethiopia\", \"length\": 29697.85714285714, \"purpose_of_sequencing\": null, \"days_to_submit\": 75.23809523809524, \"iso3\": \"ETH\", \"Region\": \"Sub-Saharan Africa\", \"Income group\": \"Low income\"}, {\"country\": \"Seychelles\", \"length\": 29691.912643678163, \"purpose_of_sequencing\": null, \"days_to_submit\": 77.46896551724137, \"iso3\": \"SYC\", \"Region\": \"Sub-Saharan Africa\", \"Income group\": \"High income\"}, {\"country\": \"Rwanda\", \"length\": 29604.464114832535, \"purpose_of_sequencing\": null, \"days_to_submit\": 80.10526315789474, \"iso3\": \"RWA\", \"Region\": \"Sub-Saharan Africa\", \"Income group\": \"Low income\"}, {\"country\": \"Mauritius\", \"length\": 29678.033129623673, \"purpose_of_sequencing\": null, \"days_to_submit\": 81.37118044387263, \"iso3\": \"MUS\", \"Region\": \"Sub-Saharan Africa\", \"Income group\": \"Upper middle income\"}, {\"country\": \"Mozambique\", \"length\": 29613.358064516127, \"purpose_of_sequencing\": null, \"days_to_submit\": 81.63548387096775, \"iso3\": \"MOZ\", \"Region\": \"Sub-Saharan Africa\", \"Income group\": \"Low income\"}, {\"country\": \"Egypt\", \"length\": 29700.7875, \"purpose_of_sequencing\": null, \"days_to_submit\": 84.52019230769231, \"iso3\": \"EGY\", \"Region\": \"Middle East & North Africa\", \"Income group\": \"Lower middle income\"}, {\"country\": \"Tanzania\", \"length\": 29388.727272727272, \"purpose_of_sequencing\": null, \"days_to_submit\": 85.81818181818181, \"iso3\": \"TZA\", \"Region\": \"Sub-Saharan Africa\", \"Income group\": \"Lower middle income\"}, {\"country\": \"Niger\", \"length\": 29412.266187050358, \"purpose_of_sequencing\": null, \"days_to_submit\": 91.94244604316546, \"iso3\": \"NER\", \"Region\": \"Sub-Saharan Africa\", \"Income group\": \"Low income\"}, {\"country\": \"Zambia\", \"length\": 29628.4018404908, \"purpose_of_sequencing\": null, \"days_to_submit\": 92.63957055214723, \"iso3\": \"ZMB\", \"Region\": \"Sub-Saharan Africa\", \"Income group\": \"Low income\"}, {\"country\": \"Liberia\", \"length\": 29693.60606060606, \"purpose_of_sequencing\": null, \"days_to_submit\": 101.72727272727273, \"iso3\": \"LBR\", \"Region\": \"Sub-Saharan Africa\", \"Income group\": \"Low income\"}, {\"country\": \"Chad\", \"length\": 29692.469387755104, \"purpose_of_sequencing\": null, \"days_to_submit\": 108.38775510204081, \"iso3\": \"TCD\", \"Region\": \"Sub-Saharan Africa\", \"Income group\": \"Low income\"}, {\"country\": \"Nigeria\", \"length\": 29697.593540134316, \"purpose_of_sequencing\": null, \"days_to_submit\": 109.52318516149664, \"iso3\": \"NGA\", \"Region\": \"Sub-Saharan Africa\", \"Income group\": \"Lower middle income\"}, {\"country\": \"Equatorial Guinea\", \"length\": 29702.5, \"purpose_of_sequencing\": null, \"days_to_submit\": 111.0, \"iso3\": \"GNQ\", \"Region\": \"Sub-Saharan Africa\", \"Income group\": \"Upper middle income\"}, {\"country\": \"Cabo Verde\", \"length\": 29652.875, \"purpose_of_sequencing\": null, \"days_to_submit\": 112.02425373134328, \"iso3\": \"CPV\", \"Region\": \"Sub-Saharan Africa\", \"Income group\": \"Lower middle income\"}, {\"country\": \"Union of the Comoros\", \"length\": 29711.470588235294, \"purpose_of_sequencing\": null, \"days_to_submit\": 114.17647058823529, \"iso3\": \"COM\", \"Region\": \"Sub-Saharan Africa\", \"Income group\": \"Lower middle income\"}, {\"country\": \"South Sudan\", \"length\": 29695.817073170732, \"purpose_of_sequencing\": null, \"days_to_submit\": 127.40243902439025, \"iso3\": \"SSD\", \"Region\": \"Sub-Saharan Africa\", \"Income group\": \"Low income\"}, {\"country\": \"Angola\", \"length\": 29684.748898678416, \"purpose_of_sequencing\": null, \"days_to_submit\": 127.93392070484582, \"iso3\": \"AGO\", \"Region\": \"Sub-Saharan Africa\", \"Income group\": \"Lower middle income\"}, {\"country\": \"Uganda\", \"length\": 29578.615720524016, \"purpose_of_sequencing\": null, \"days_to_submit\": 138.55021834061137, \"iso3\": \"UGA\", \"Region\": \"Sub-Saharan Africa\", \"Income group\": \"Low income\"}, {\"country\": \"Kenya\", \"length\": 29721.153103201574, \"purpose_of_sequencing\": null, \"days_to_submit\": 142.70595600071545, \"iso3\": \"KEN\", \"Region\": \"Sub-Saharan Africa\", \"Income group\": \"Lower middle income\"}, {\"country\": \"Eswatini\", \"length\": 29621.575431034482, \"purpose_of_sequencing\": null, \"days_to_submit\": 143.95797413793105, \"iso3\": \"SWZ\", \"Region\": \"Sub-Saharan Africa\", \"Income group\": \"Lower middle income\"}, {\"country\": \"Guinea\", \"length\": 29596.134770889486, \"purpose_of_sequencing\": null, \"days_to_submit\": 146.84636118598382, \"iso3\": \"GIN\", \"Region\": \"Sub-Saharan Africa\", \"Income group\": \"Low income\"}, {\"country\": \"Algeria\", \"length\": 29646.40701754386, \"purpose_of_sequencing\": null, \"days_to_submit\": 150.72982456140352, \"iso3\": \"DZA\", \"Region\": \"Middle East & North Africa\", \"Income group\": \"Lower middle income\"}, {\"country\": \"Burundi\", \"length\": 29473.063157894736, \"purpose_of_sequencing\": null, \"days_to_submit\": 169.10526315789474, \"iso3\": \"BDI\", \"Region\": \"Sub-Saharan Africa\", \"Income group\": \"Low income\"}, {\"country\": \"Democratic Republic of the Congo\", \"length\": 29654.51313485114, \"purpose_of_sequencing\": null, \"days_to_submit\": 173.05604203152365, \"iso3\": \"COD\", \"Region\": \"Sub-Saharan Africa\", \"Income group\": \"Low income\"}, {\"country\": \"Ghana\", \"length\": 29708.721744877726, \"purpose_of_sequencing\": null, \"days_to_submit\": 175.58360872438863, \"iso3\": \"GHA\", \"Region\": \"Sub-Saharan Africa\", \"Income group\": \"Lower middle income\"}, {\"country\": \"Cameroon\", \"length\": 29690.376184032477, \"purpose_of_sequencing\": null, \"days_to_submit\": 178.3721244925575, \"iso3\": \"CMR\", \"Region\": \"Sub-Saharan Africa\", \"Income group\": \"Lower middle income\"}, {\"country\": \"Togo\", \"length\": 29748.58940397351, \"purpose_of_sequencing\": null, \"days_to_submit\": 180.91390728476821, \"iso3\": \"TGO\", \"Region\": \"Sub-Saharan Africa\", \"Income group\": \"Low income\"}, {\"country\": \"Madagascar\", \"length\": 29790.550561797754, \"purpose_of_sequencing\": null, \"days_to_submit\": 184.38202247191012, \"iso3\": \"MDG\", \"Region\": \"Sub-Saharan Africa\", \"Income group\": \"Low income\"}, {\"country\": \"Libya\", \"length\": 29607.485294117647, \"purpose_of_sequencing\": null, \"days_to_submit\": 186.51470588235293, \"iso3\": \"LBY\", \"Region\": \"Middle East & North Africa\", \"Income group\": \"Upper middle income\"}, {\"country\": \"Benin\", \"length\": 29812.536885245903, \"purpose_of_sequencing\": null, \"days_to_submit\": 200.7377049180328, \"iso3\": \"BEN\", \"Region\": \"Sub-Saharan Africa\", \"Income group\": \"Lower middle income\"}, {\"country\": \"Tunisia\", \"length\": 29748.11642599278, \"purpose_of_sequencing\": null, \"days_to_submit\": 233.50361010830323, \"iso3\": \"TUN\", \"Region\": \"Middle East & North Africa\", \"Income group\": \"Lower middle income\"}, {\"country\": \"Namibia\", \"length\": 29671.747330960854, \"purpose_of_sequencing\": null, \"days_to_submit\": 251.38078291814946, \"iso3\": \"NAM\", \"Region\": \"Sub-Saharan Africa\", \"Income group\": \"Upper middle income\"}, {\"country\": \"Mauritania\", \"length\": 29700.275862068964, \"purpose_of_sequencing\": null, \"days_to_submit\": 253.9655172413793, \"iso3\": \"MRT\", \"Region\": \"Sub-Saharan Africa\", \"Income group\": \"Lower middle income\"}, {\"country\": \"Sao Tome and Principe\", \"length\": 29767.0, \"purpose_of_sequencing\": null, \"days_to_submit\": 254.1, \"iso3\": \"STP\", \"Region\": \"Sub-Saharan Africa\", \"Income group\": \"Lower middle income\"}, {\"country\": \"Senegal\", \"length\": 29632.144491420044, \"purpose_of_sequencing\": null, \"days_to_submit\": 256.5399154439194, \"iso3\": \"SEN\", \"Region\": \"Sub-Saharan Africa\", \"Income group\": \"Lower middle income\"}, {\"country\": \"Malawi\", \"length\": 29729.527559055117, \"purpose_of_sequencing\": null, \"days_to_submit\": 258.18897637795277, \"iso3\": \"MWI\", \"Region\": \"Sub-Saharan Africa\", \"Income group\": \"Low income\"}, {\"country\": \"Lesotho\", \"length\": 29625.913265306124, \"purpose_of_sequencing\": null, \"days_to_submit\": 281.46938775510205, \"iso3\": \"LSO\", \"Region\": \"Sub-Saharan Africa\", \"Income group\": \"Lower middle income\"}, {\"country\": \"C\\u00f4te d'Ivoire\", \"length\": 29795.45020746888, \"purpose_of_sequencing\": null, \"days_to_submit\": 285.20539419087135, \"iso3\": \"CIV\", \"Region\": \"Sub-Saharan Africa\", \"Income group\": \"Lower middle income\"}, {\"country\": \"Somalia\", \"length\": 29120.0, \"purpose_of_sequencing\": null, \"days_to_submit\": 290.8888888888889, \"iso3\": \"SOM\", \"Region\": \"Sub-Saharan Africa\", \"Income group\": \"Low income\"}, {\"country\": \"Burkina Faso\", \"length\": 29674.514285714286, \"purpose_of_sequencing\": null, \"days_to_submit\": 334.5285714285714, \"iso3\": \"BFA\", \"Region\": \"Sub-Saharan Africa\", \"Income group\": \"Low income\"}, {\"country\": \"Gabon\", \"length\": 29756.924657534248, \"purpose_of_sequencing\": null, \"days_to_submit\": 384.7585616438356, \"iso3\": \"GAB\", \"Region\": \"Sub-Saharan Africa\", \"Income group\": \"Upper middle income\"}, {\"country\": \"Sudan\", \"length\": 29651.613636363636, \"purpose_of_sequencing\": null, \"days_to_submit\": 449.42045454545456, \"iso3\": \"SDN\", \"Region\": \"Sub-Saharan Africa\", \"Income group\": \"Low income\"}]}}, {\"mode\": \"vega-lite\"});\n",
       "</script>"
      ],
      "text/plain": [
       "alt.Chart(...)"
      ]
     },
     "execution_count": 21,
     "metadata": {},
     "output_type": "execute_result"
    }
   ],
   "source": [
    "make_chart(days_to_submit_df_2022, 2022)"
   ]
  },
  {
   "cell_type": "code",
   "execution_count": 11,
   "id": "4865b3ee-4b2a-40a6-88de-3ece42a78925",
   "metadata": {},
   "outputs": [],
   "source": [
    "def print_dts_stats(df, year, cutoff):\n",
    "    print(f\"median days to submit in {year}:\", round(df.days_to_submit.median()), \"standard deviation:\", df.days_to_submit.median())\n",
    "    print(f\"number of countries submitting in under {cutoff} days:\", len(df[df.days_to_submit < cutoff].sort_values(by='country')))\n",
    "    print(\"number of countries submitting:\", len(df))    "
   ]
  },
  {
   "cell_type": "code",
   "execution_count": 12,
   "id": "b57a0773-3534-48fd-a6a3-7b320af6d649",
   "metadata": {},
   "outputs": [
    {
     "name": "stdout",
     "output_type": "stream",
     "text": [
      "median days to submit in 2020: 116 standard deviation: 116.05125391849529\n",
      "number of countries submitting in under 100 days: 12\n",
      "number of countries submitting: 28\n"
     ]
    }
   ],
   "source": [
    "print_dts_stats(days_to_submit_df_2020, '2020', 100)"
   ]
  },
  {
   "cell_type": "code",
   "execution_count": 13,
   "id": "44e3b578-59f4-4a60-a49c-7527e03b0f52",
   "metadata": {},
   "outputs": [
    {
     "name": "stdout",
     "output_type": "stream",
     "text": [
      "median days to submit in 2021: 105 standard deviation: 104.88906497622821\n",
      "number of countries submitting in under 100 days: 23\n",
      "number of countries submitting: 49\n"
     ]
    }
   ],
   "source": [
    "print_dts_stats(days_to_submit_df_2021, '2021', 100)"
   ]
  },
  {
   "cell_type": "code",
   "execution_count": 14,
   "id": "c985e85a-100a-4787-b92b-2075449d4c35",
   "metadata": {},
   "outputs": [
    {
     "name": "stdout",
     "output_type": "stream",
     "text": [
      "median days to submit in 2022: 128 standard deviation: 127.93392070484582\n",
      "number of countries submitting in under 100 days: 18\n",
      "number of countries submitting: 51\n"
     ]
    }
   ],
   "source": [
    "print_dts_stats(days_to_submit_df_2022, '2022', 100)"
   ]
  }
 ],
 "metadata": {
  "kernelspec": {
   "display_name": "Python 3 (ipykernel)",
   "language": "python",
   "name": "python3"
  },
  "language_info": {
   "codemirror_mode": {
    "name": "ipython",
    "version": 3
   },
   "file_extension": ".py",
   "mimetype": "text/x-python",
   "name": "python",
   "nbconvert_exporter": "python",
   "pygments_lexer": "ipython3",
   "version": "3.10.4"
  }
 },
 "nbformat": 4,
 "nbformat_minor": 5
}
