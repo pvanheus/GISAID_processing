{
 "cells": [
  {
   "cell_type": "code",
   "execution_count": 4,
   "id": "18d313bd-5208-4cdc-9212-02c972a333e0",
   "metadata": {},
   "outputs": [],
   "source": [
    "import altair as alt\n",
    "import pandas as pd\n",
    "\n",
    "from gisaid_utils import *"
   ]
  },
  {
   "cell_type": "code",
   "execution_count": 3,
   "id": "563bb877-3aec-479a-97ae-d343046aa2fb",
   "metadata": {},
   "outputs": [],
   "source": [
    "gisaid_metadata_filename = 'metadata_2022-08-20_00-26.tsv.gz'\n",
    "extract_africa_metadata(gisaid_metadata_filename)\n",
    "africa_metadata = get_africa_metadata()"
   ]
  },
  {
   "cell_type": "code",
   "execution_count": 5,
   "id": "6032fa94-8f56-4cc1-b560-8623f5d55bd3",
   "metadata": {},
   "outputs": [
    {
     "data": {
      "text/html": [
       "\n",
       "<div id=\"altair-viz-8a886083956346768cd0fbda4ec2b67a\"></div>\n",
       "<script type=\"text/javascript\">\n",
       "  (function(spec, embedOpt){\n",
       "    let outputDiv = document.currentScript.previousElementSibling;\n",
       "    if (outputDiv.id !== \"altair-viz-8a886083956346768cd0fbda4ec2b67a\") {\n",
       "      outputDiv = document.getElementById(\"altair-viz-8a886083956346768cd0fbda4ec2b67a\");\n",
       "    }\n",
       "    const paths = {\n",
       "      \"vega\": \"https://cdn.jsdelivr.net/npm//vega@5?noext\",\n",
       "      \"vega-lib\": \"https://cdn.jsdelivr.net/npm//vega-lib?noext\",\n",
       "      \"vega-lite\": \"https://cdn.jsdelivr.net/npm//vega-lite@4.8.1?noext\",\n",
       "      \"vega-embed\": \"https://cdn.jsdelivr.net/npm//vega-embed@6?noext\",\n",
       "    };\n",
       "\n",
       "    function loadScript(lib) {\n",
       "      return new Promise(function(resolve, reject) {\n",
       "        var s = document.createElement('script');\n",
       "        s.src = paths[lib];\n",
       "        s.async = true;\n",
       "        s.onload = () => resolve(paths[lib]);\n",
       "        s.onerror = () => reject(`Error loading script: ${paths[lib]}`);\n",
       "        document.getElementsByTagName(\"head\")[0].appendChild(s);\n",
       "      });\n",
       "    }\n",
       "\n",
       "    function showError(err) {\n",
       "      outputDiv.innerHTML = `<div class=\"error\" style=\"color:red;\">${err}</div>`;\n",
       "      throw err;\n",
       "    }\n",
       "\n",
       "    function displayChart(vegaEmbed) {\n",
       "      vegaEmbed(outputDiv, spec, embedOpt)\n",
       "        .catch(err => showError(`Javascript Error: ${err.message}<br>This usually means there's a typo in your chart specification. See the javascript console for the full traceback.`));\n",
       "    }\n",
       "\n",
       "    if(typeof define === \"function\" && define.amd) {\n",
       "      requirejs.config({paths});\n",
       "      require([\"vega-embed\"], displayChart, err => showError(`Error loading script: ${err.message}`));\n",
       "    } else if (typeof vegaEmbed === \"function\") {\n",
       "      displayChart(vegaEmbed);\n",
       "    } else {\n",
       "      loadScript(\"vega\")\n",
       "        .then(() => loadScript(\"vega-lite\"))\n",
       "        .then(() => loadScript(\"vega-embed\"))\n",
       "        .catch(showError)\n",
       "        .then(() => displayChart(vegaEmbed));\n",
       "    }\n",
       "  })({\"config\": {\"view\": {\"continuousWidth\": 400, \"continuousHeight\": 300}}, \"data\": {\"name\": \"data-cf3f63b7593e5d8d29f8a6e4bd395d41\"}, \"mark\": \"bar\", \"encoding\": {\"x\": {\"type\": \"nominal\", \"field\": \"country\", \"title\": \"Country\"}, \"y\": {\"type\": \"quantitative\", \"field\": \"days_to_submit\", \"title\": \"Days to submit sample to GISAID\"}}, \"$schema\": \"https://vega.github.io/schema/vega-lite/v4.8.1.json\", \"datasets\": {\"data-cf3f63b7593e5d8d29f8a6e4bd395d41\": [{\"country\": \"Sierra Leone\", \"length\": 29764.5, \"purpose_of_sequencing\": null, \"days_to_submit\": 28.0}, {\"country\": \"Botswana\", \"length\": 29414.85723883104, \"purpose_of_sequencing\": null, \"days_to_submit\": 33.347329526368824}, {\"country\": \"Zimbabwe\", \"length\": 29748.70802919708, \"purpose_of_sequencing\": null, \"days_to_submit\": 48.3978102189781}, {\"country\": \"Mali\", \"length\": 29809.5, \"purpose_of_sequencing\": null, \"days_to_submit\": 56.0}, {\"country\": \"Morocco\", \"length\": 29744.153558052436, \"purpose_of_sequencing\": null, \"days_to_submit\": 62.68539325842696}, {\"country\": \"Central African Republic\", \"length\": 29693.85106382979, \"purpose_of_sequencing\": null, \"days_to_submit\": 64.46808510638297}, {\"country\": \"Djibouti\", \"length\": 29742.280487804877, \"purpose_of_sequencing\": null, \"days_to_submit\": 65.72439024390243}, {\"country\": \"South Africa\", \"length\": 29682.43762781186, \"purpose_of_sequencing\": null, \"days_to_submit\": 69.85215159030588}, {\"country\": \"Seychelles\", \"length\": 29701.909012131717, \"purpose_of_sequencing\": null, \"days_to_submit\": 72.05112651646448}, {\"country\": \"Republic of the Congo\", \"length\": 29664.86925795053, \"purpose_of_sequencing\": null, \"days_to_submit\": 77.24734982332156}, {\"country\": \"Mauritius\", \"length\": 29680.869684082623, \"purpose_of_sequencing\": null, \"days_to_submit\": 79.21931956257595}, {\"country\": \"Rwanda\", \"length\": 29610.027397260274, \"purpose_of_sequencing\": null, \"days_to_submit\": 79.337899543379}, {\"country\": \"Union of the Comoros\", \"length\": 29732.428571428572, \"purpose_of_sequencing\": null, \"days_to_submit\": 82.85714285714286}, {\"country\": \"Tanzania\", \"length\": 29388.727272727272, \"purpose_of_sequencing\": null, \"days_to_submit\": 85.81818181818181}, {\"country\": \"Gambia\", \"length\": 29605.96762589928, \"purpose_of_sequencing\": null, \"days_to_submit\": 90.86690647482014}, {\"country\": \"Mozambique\", \"length\": 29722.88663282572, \"purpose_of_sequencing\": null, \"days_to_submit\": 99.16074450084602}, {\"country\": \"Ethiopia\", \"length\": 29748.399433427763, \"purpose_of_sequencing\": null, \"days_to_submit\": 101.43342776203966}, {\"country\": \"Liberia\", \"length\": 29693.60606060606, \"purpose_of_sequencing\": null, \"days_to_submit\": 101.72727272727273}, {\"country\": \"Nigeria\", \"length\": 29713.710260115608, \"purpose_of_sequencing\": null, \"days_to_submit\": 103.16016377649326}, {\"country\": \"Angola\", \"length\": 29742.569732937685, \"purpose_of_sequencing\": null, \"days_to_submit\": 107.76854599406528}, {\"country\": \"Chad\", \"length\": 29692.469387755104, \"purpose_of_sequencing\": null, \"days_to_submit\": 108.38775510204081}, {\"country\": \"Equatorial Guinea\", \"length\": 29702.5, \"purpose_of_sequencing\": null, \"days_to_submit\": 111.0}, {\"country\": \"Cabo Verde\", \"length\": 29652.875, \"purpose_of_sequencing\": null, \"days_to_submit\": 112.02425373134328}, {\"country\": \"Zambia\", \"length\": 29643.804136253042, \"purpose_of_sequencing\": null, \"days_to_submit\": 117.0}, {\"country\": \"Niger\", \"length\": 29482.118811881188, \"purpose_of_sequencing\": null, \"days_to_submit\": 122.53465346534654}, {\"country\": \"South Sudan\", \"length\": 29695.817073170732, \"purpose_of_sequencing\": null, \"days_to_submit\": 127.40243902439025}, {\"country\": \"Uganda\", \"length\": 29611.915343915345, \"purpose_of_sequencing\": null, \"days_to_submit\": 142.2151675485009}, {\"country\": \"Eswatini\", \"length\": 29621.575431034482, \"purpose_of_sequencing\": null, \"days_to_submit\": 143.95797413793105}, {\"country\": \"Egypt\", \"length\": 29740.277486910996, \"purpose_of_sequencing\": null, \"days_to_submit\": 145.72475691847418}, {\"country\": \"Guinea\", \"length\": 29596.134770889486, \"purpose_of_sequencing\": null, \"days_to_submit\": 146.84636118598382}, {\"country\": \"Algeria\", \"length\": 29648.362068965518, \"purpose_of_sequencing\": null, \"days_to_submit\": 148.5655172413793}, {\"country\": \"Ghana\", \"length\": 29688.752003561887, \"purpose_of_sequencing\": null, \"days_to_submit\": 152.57123775601067}, {\"country\": \"Kenya\", \"length\": 29727.14734266685, \"purpose_of_sequencing\": null, \"days_to_submit\": 156.76457795296997}, {\"country\": \"Cameroon\", \"length\": 29723.566739606125, \"purpose_of_sequencing\": null, \"days_to_submit\": 157.5995623632385}, {\"country\": \"Burundi\", \"length\": 29473.063157894736, \"purpose_of_sequencing\": null, \"days_to_submit\": 169.10526315789474}, {\"country\": \"Democratic Republic of the Congo\", \"length\": 29654.51313485114, \"purpose_of_sequencing\": null, \"days_to_submit\": 173.05604203152365}, {\"country\": \"Togo\", \"length\": 29748.58940397351, \"purpose_of_sequencing\": null, \"days_to_submit\": 180.91390728476821}, {\"country\": \"Madagascar\", \"length\": 29803.05769230769, \"purpose_of_sequencing\": null, \"days_to_submit\": 183.0897435897436}, {\"country\": \"Libya\", \"length\": 29610.1884057971, \"purpose_of_sequencing\": null, \"days_to_submit\": 188.31884057971016}, {\"country\": \"Benin\", \"length\": 29705.64097363083, \"purpose_of_sequencing\": null, \"days_to_submit\": 202.67748478701824}, {\"country\": \"Malawi\", \"length\": 29722.734627831716, \"purpose_of_sequencing\": null, \"days_to_submit\": 214.74433656957927}, {\"country\": \"Tunisia\", \"length\": 29748.782959641256, \"purpose_of_sequencing\": null, \"days_to_submit\": 235.36322869955157}, {\"country\": \"Namibia\", \"length\": 29681.006697923644, \"purpose_of_sequencing\": null, \"days_to_submit\": 246.178834561286}, {\"country\": \"Senegal\", \"length\": 29621.705953241744, \"purpose_of_sequencing\": null, \"days_to_submit\": 250.66763075439866}, {\"country\": \"Mauritania\", \"length\": 29700.275862068964, \"purpose_of_sequencing\": null, \"days_to_submit\": 253.9655172413793}, {\"country\": \"Sao Tome and Principe\", \"length\": 29767.0, \"purpose_of_sequencing\": null, \"days_to_submit\": 254.1}, {\"country\": \"Lesotho\", \"length\": 29630.333333333332, \"purpose_of_sequencing\": null, \"days_to_submit\": 277.1044776119403}, {\"country\": \"C\\u00f4te d'Ivoire\", \"length\": 29794.54081632653, \"purpose_of_sequencing\": null, \"days_to_submit\": 281.72857142857146}, {\"country\": \"Somalia\", \"length\": 29120.0, \"purpose_of_sequencing\": null, \"days_to_submit\": 290.8888888888889}, {\"country\": \"Burkina Faso\", \"length\": 29577.024390243903, \"purpose_of_sequencing\": null, \"days_to_submit\": 317.4390243902439}, {\"country\": \"Gabon\", \"length\": 29756.924657534248, \"purpose_of_sequencing\": null, \"days_to_submit\": 384.7585616438356}, {\"country\": \"Sudan\", \"length\": 29651.613636363636, \"purpose_of_sequencing\": null, \"days_to_submit\": 449.42045454545456}]}}, {\"mode\": \"vega-lite\"});\n",
       "</script>"
      ],
      "text/plain": [
       "alt.Chart(...)"
      ]
     },
     "execution_count": 5,
     "metadata": {},
     "output_type": "execute_result"
    }
   ],
   "source": [
    "def date_greater_filter(date, cutoff):\n",
    "    date_parts = date.split('-')\n",
    "    date_day = int(date_parts[2]) if len(date_parts) == 3 else 0\n",
    "    date_month = int(date_parts[1]) if len(date_parts) >= 2 else 0\n",
    "    date_year = int(date_parts[0])\n",
    "    return [date_year, date_month, date_day] >= cutoff\n",
    "\n",
    "def date_lesser_filter(date, cutoff):\n",
    "    return not date_greater_filter(date, cutoff)\n",
    " \n",
    "alt.Chart(\n",
    "    africa_metadata[africa_metadata.apply(lambda r:date_greater_filter(r['date_submitted'], [2021,11,1]), axis=1)].groupby('country').mean().reset_index().sort_values(by='days_to_submit')\n",
    ").mark_bar().encode(x=alt.X(\"country\", title=\"Country\"), y=alt.Y(\"days_to_submit\", title=\"Days to submit sample to GISAID\"))"
   ]
  },
  {
   "cell_type": "code",
   "execution_count": null,
   "id": "b57a0773-3534-48fd-a6a3-7b320af6d649",
   "metadata": {},
   "outputs": [],
   "source": []
  }
 ],
 "metadata": {
  "kernelspec": {
   "display_name": "Python 3 (ipykernel)",
   "language": "python",
   "name": "python3"
  },
  "language_info": {
   "codemirror_mode": {
    "name": "ipython",
    "version": 3
   },
   "file_extension": ".py",
   "mimetype": "text/x-python",
   "name": "python",
   "nbconvert_exporter": "python",
   "pygments_lexer": "ipython3",
   "version": "3.10.4"
  }
 },
 "nbformat": 4,
 "nbformat_minor": 5
}
